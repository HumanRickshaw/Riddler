{
 "cells": [
  {
   "cell_type": "markdown",
   "metadata": {},
   "source": [
    "# Can You Determine the Corner Distance?\n",
    "\n",
    "## [Riddler Express](https://fivethirtyeight.com/features/can-you-guess-the-mystery-word/)\n",
    "\n",
    "If you have young children (or if you’re still a child at heart), you probably have small blocks somewhere in your home.\n",
    "\n",
    "I recently found four cubic blocks in a peculiar arrangement. Three of them were flat on the ground, with their corners touching and enclosing an equilateral triangle. Meanwhile, the fourth cube was above the other three, filling in the gap between them in a surprisingly snug manner. Here’s a photo I took of this arrangement:\n",
    "\n",
    "<img src = \"2021.01.29 Express four_cubes.jpg\" width = 600>\n",
    "\n",
    "If you too have blocks at home (I mean, of course you do), see if you can make the same arrangement.\n",
    "\n",
    "Now, if each of the four cubes has side length 1, then how far above the ground is the bottommost corner of the cube on top?\n",
    "\n",
    "## Solution\n",
    "\n",
    "The shape hidden from view is a triangular pyramid.  The base is the equilateral triangle created by the three cubes flat on the ground.  The three additional faces are from the top cube, each being an isosceles right triangle with hypotenuse $= 1$.\n",
    "\n",
    "The height of the base is $\\frac{\\sqrt{3}}{2}$.  The height of the triangular pyramid is from the bottom vertex to the centroid of the base triangle.  The distance to the centroid is $\\frac{2}{3} \\cdot \\frac{\\sqrt{3}}{2} = \\frac{1}{\\sqrt{3}}$.  The picture below summarizes the shape hidden from view.\n",
    "\n",
    "<img src = \"2021.01.29 Express.png\" width = 600>\n",
    "\n",
    "The height of the triangular pyramid is:\n",
    "<br/>\n",
    "$$\\sqrt{\\left(\\frac{1}{\\sqrt{2}}\\right)^2-\\left(\\frac{1}{\\sqrt{3}}\\right)^2}$$\n",
    "<br/>\n",
    "$$= \\sqrt{ \\frac{1}{2}-\\frac{1}{3} }$$\n",
    "<br/>\n",
    "$$= \\frac{1}{\\sqrt{6}}$$\n",
    "\n",
    "## Answer\n",
    "\n",
    "The internal diagonal of a block of side length $1$ is $\\sqrt{3}$.\n",
    "\n",
    "The distance from the ground to the top corner is thus:\n",
    "<br/>\n",
    "$$1 + \\sqrt{3} - \\frac{1}{\\sqrt{6}}$$\n",
    "<br/>\n",
    "$$\\approx 2.324$$\n",
    "\n",
    "#### Rohan Lewis \n",
    "\n",
    "#### 2021.02.01\n",
    "\n",
    "Code can be found [here](https://humanrickshaw.github.io/Riddler/2021.01.29%20Express%20Code.html)."
   ]
  }
 ],
 "metadata": {
  "kernelspec": {
   "display_name": "Python 3",
   "language": "python",
   "name": "python3"
  },
  "language_info": {
   "codemirror_mode": {
    "name": "ipython",
    "version": 3
   },
   "file_extension": ".py",
   "mimetype": "text/x-python",
   "name": "python",
   "nbconvert_exporter": "python",
   "pygments_lexer": "ipython3",
   "version": "3.8.5"
  }
 },
 "nbformat": 4,
 "nbformat_minor": 4
}
