{
 "cells": [
  {
   "cell_type": "markdown",
   "metadata": {},
   "source": [
    "# Can You Be Mediocre Enough To Win?\n",
    "\n",
    "## [Ridler Classic](https://fivethirtyeight.com/features/can-you-be-mediocre-enough-to-win/)\n",
    "\n",
    "<p data-paragraph=\"main\">This week’s Classic also comes from Ben Orlin, although it’s relatively mediocre compared to the Express.</p>\n",
    "\n",
    "<p data-paragraph=\"main\">In the three-player Game of Mediocrity, you win by not winning too much.</p>\n",
    "\n",
    "<p data-paragraph=\"main\">Each round, every player secretly picks a number from 0 to 10. The numbers are simultaneously revealed, and the median number wins that number of points. (If two or more players pick the same number, then the winner is randomly selected from among them.)</p>\n",
    "\n",
    "<img src=\"https://fivethirtyeight.com/wp-content/uploads/2022/04/mediocre.png\">\n",
    "\n",
    "<p data-paragraph=\"main\">After five rounds, the winner is whoever has the median number of points. (Again, if two or more players have the same score, then the winner is randomly selected from among them.)</p>\n",
    "\n",
    "<p data-paragraph=\"main\">With one round remaining, players A, B and C have 6, 8 and 10 points, respectively. Player A sighs and writes down “3,” but fails to do so in secret. Players B and C both see player A’s number (and both see that the other saw A’s number), and will take care to write their own numbers in secret. Assuming everyone plays to win, what numbers should B and C choose?</p>\n"
   ]
  },
  {
   "cell_type": "markdown",
   "metadata": {},
   "source": [
    "## Solution\n",
    "\n",
    "Players B and C have 11 strategies each.  This yields 121 outcomes.  The following table details the winnings to each player in the 5th round for each of the 121 outcomes.  Scores are denoted in the form (A,B,C).\n",
    "\n",
    "<img src = \"2022.04.08 Classic Score.png\">"
   ]
  },
  {
   "cell_type": "markdown",
   "metadata": {},
   "source": [
    "After adding the 5th round score, the Most Mediocre player in each outcome is shown below.\n",
    "\n",
    "<img src = \"2022.04.08 Classic Winner.png\">"
   ]
  },
  {
   "cell_type": "markdown",
   "metadata": {},
   "source": [
    "### Details of Outcomes.\n",
    "\n",
    "<ol>\n",
    "    <li>$B < 2$, $C < 3$\n",
    "        <ul>\n",
    "            <li>No matter what the median is for the 5th round, and who is randomly chosen, B will be the Most Mediocre.</li>\n",
    "            <li>6 outcomes fits this scenario.</li>\n",
    "        </ul><br>\n",
    "    </li>\n",
    "    <li>$B = 2$, $C < 3$\n",
    "        <ul>\n",
    "            <li>If C chooses 2, B or C could be the random winner of the 5th round.  This yields (6,10,10) and (6,8,12).</li>\n",
    "            <li>If C chooses 0 or 1, B wins the 5th round.  This yields (6,10,10).</li>\n",
    "            <li>Either way, B or C could be the Most Mediocre.</li>\n",
    "            <li>3 outcomes fits this scenario.</li>\n",
    "        </ul><br>\n",
    "    </li>\n",
    "    <li>$B,C = 3$\n",
    "        <ul>\n",
    "            <li>If A is randomly chosen, the final score is (9,8,10).  A is the Most Mediocre.</li>\n",
    "            <li>If B is randomly chosen, the final score is (6,11,10).  C is the Most Mediocre.</li>\n",
    "            <li>If C is randomly chosen, the final score is (6,8,13).  B is the Most Mediocre.</li>\n",
    "            <li>1 outcomes fits this scenario.</li>\n",
    "        </ul><br>\n",
    "    </li>\n",
    "    <li>$B = 3$\n",
    "        <ul>\n",
    "            <li>If A is randomly chosen, the final score is (9,8,10).  A is the Most Mediocre.</li>\n",
    "            <li>If B is randomly chosen, the final score is (6,11,10).  C is the Most Mediocre.</li>\n",
    "            <li>10 outcomes fit this scenario.</li>\n",
    "        </ul><br>\n",
    "    </li>\n",
    "    <li>$C = 3$\n",
    "        <ul>\n",
    "            <li>If A is randomly chosen, the final score is (9,8,10).  A is the Most Mediocre.</li>\n",
    "            <li>If C is randomly chosen, the final score is (6,8,13).  B is the Most Mediocre.</li>\n",
    "            <li>10 outcomes fits this scenario.</li>\n",
    "        </ul><br>\n",
    "    </li>\n",
    "    <li>$C < 3 < B$ or $B < 3 < 3$\n",
    "        <ul>\n",
    "            <li>A wins the 5th round.</li>\n",
    "            <li>The final score is (9,8,10).  A is the Most Mediocre.</li>\n",
    "            <li>42 outcomes fit this scenario.</li>\n",
    "        </ul><br>\n",
    "    </li>\n",
    "    <li>$B,C = x$, $3 < x$\n",
    "        <ul>\n",
    "            <li>B or C could be the random winner of the 5th round.</li>\n",
    "            <li>This yields (6,8+x,10) and (6,8,10+x).  B or C could be the Most Mediocre.</li>\n",
    "            <li>7 outcomes fits this scenario.</li>\n",
    "        </ul><br>\n",
    "    </li>\n",
    "    <li>$B = x$, $4 \\le B < C$\n",
    "        <ul>\n",
    "            <li>B wins the 5th round.</li>\n",
    "            <li>This yields (6,8+x,10).  C is the Most Mediocre.</li>\n",
    "            <li>21 outcomes fits this scenario.</li>\n",
    "        </ul><br>\n",
    "    </li>\n",
    "    <li>$C = x$, $4 \\le C < B$\n",
    "        <ul>\n",
    "            <li>C wins the 5th round.</li>\n",
    "            <li>This yields (6,8,10+x).  B is the Most Mediocre.</li>\n",
    "            <li>21 outcomes fits this scenario.</li>\n",
    "        </ul>\n",
    "    </li>\n",
    "</ol>"
   ]
  },
  {
   "cell_type": "markdown",
   "metadata": {},
   "source": [
    "## Answer\n",
    "\n",
    "Using Higher Order Dominance, B and C will successively eliminate inferior strategies, and consider what is inferior and eliminated for the other.  The following happens.\n",
    "\n",
    "<ol>\n",
    "    <li><b style = \"color:#FDE275;\">B will not choose 2 or 3</b>, as they can do as good or better for every outcome by choosing 0 or 1.</li>\n",
    "    <li><b style = \"color:#B8DE29;\">C will not choose 0, 1, 2, or 3</b>, as they do not win in any outcome.</li>\n",
    "    <li><b style = \"color:#73D055;\">B will not choose 0 or 1</b>, as they do not win in any outcome.</li>\n",
    "    <li><b style = \"color:#3CBB75;\">B & C will not choose 4</b>, as they can do as good or better by choosing 5-10.</li>\n",
    "    <li><b style = \"color:#20A387;\">B & C will not choose 5</b>, as they can do as good or better by choosing 6-10.</li>\n",
    "    <li><b style = \"color:#238A8D;\">B & C will not choose 6</b>, as they can do as good or better by choosing 7-10.</li>\n",
    "    <li><b style = \"color:#2D708E;\">B & C will not choose 7</b>, as they can do as good or better by choosing 8-10.</li>\n",
    "    <li><b style = \"color:#39568C;\">B & C will not choose 8</b>, as they can do as good or better by choosing 9 or 10.</li>\n",
    "    <li><b style = \"color:#453781;\">B & C will not choose 9</b>, as they can do as good or better by choosing 10.</li>\n",
    "</ol> \n",
    "\n",
    "<img src = \"2022.04.08 Classic Final.png\">\n",
    "\n",
    "The optimum strategy is for B and C to both choose 10, and half the time be the Most Mediocre.\n",
    "\n",
    "This outcome is a Nash Equilibrium, as neither player can gain by deviating."
   ]
  },
  {
   "cell_type": "markdown",
   "metadata": {},
   "source": [
    "# Rohan Lewis\n",
    "\n",
    "#### 2022.04.11\n",
    "\n",
    "Code can be found [here](https://humanrickshaw.github.io/Riddler/2022/2022.04.08%20Classic%20Code.html)."
   ]
  }
 ],
 "metadata": {
  "kernelspec": {
   "display_name": "Python 3",
   "language": "python",
   "name": "python3"
  },
  "language_info": {
   "codemirror_mode": {
    "name": "ipython",
    "version": 3
   },
   "file_extension": ".py",
   "mimetype": "text/x-python",
   "name": "python",
   "nbconvert_exporter": "python",
   "pygments_lexer": "ipython3",
   "version": "3.8.5"
  }
 },
 "nbformat": 4,
 "nbformat_minor": 4
}
